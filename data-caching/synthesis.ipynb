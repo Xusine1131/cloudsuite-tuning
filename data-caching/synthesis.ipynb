{
 "cells": [
  {
   "cell_type": "code",
   "execution_count": null,
   "metadata": {},
   "outputs": [],
   "source": [
    "import os\n",
    "import re"
   ]
  },
  {
   "cell_type": "code",
   "execution_count": null,
   "metadata": {},
   "outputs": [],
   "source": [
    "class DataPoint:\n",
    "  throughput: float = 0\n",
    "  latency_95th: float = 0\n",
    "  latency_99th: float = 0\n",
    "  cpu_usage: float = 0\n",
    "  def parseFromFoler(self, path: str):\n",
    "    # 1. parse the client-result.txt file\n",
    "    rps = []\n",
    "    t95 = []\n",
    "    t99 = []\n",
    "    is_data = False\n",
    "    with open(\"{}/client-result.txt\".format(path)) as f:\n",
    "      for l in f:\n",
    "        if l.strip().startswith(\"timeDiff\"):\n",
    "          is_data = True\n",
    "          continue\n",
    "        if is_data:\n",
    "          is_data = False\n",
    "          line_info = re.split(r',\\s+', l.strip())\n",
    "          if len(line_info) < 11:\n",
    "            continue\n",
    "          #print(line_info)\n",
    "          if float(line_info[0]) > 10: # non stable point, ignored.\n",
    "            continue\n",
    "          rps.append(float(line_info[1]))\n",
    "          t95.append(float(line_info[9]))\n",
    "          t99.append(float(line_info[10]))\n",
    "    \n",
    "    self.throughput = sum(rps) / len(rps)\n",
    "    self.latency_95th = sum(t95) / len(t95)\n",
    "    self.latency_99th = sum(t99) / len(t99)\n",
    "\n",
    "    # 2. parse util.txt to get CPU usage.\n",
    "    cpu_usages = []\n",
    "    with open(\"{}/util.txt\".format(path)) as f:\n",
    "      for l in f:\n",
    "        if \"dc-server\" in l:\n",
    "          line_info = l.split()\n",
    "          cpu_usages.append(float(line_info[2][:-2]))\n",
    "\n",
    "    self.cpu_usage = sum(cpu_usages) / len(cpu_usages)"
   ]
  },
  {
   "cell_type": "code",
   "execution_count": null,
   "metadata": {},
   "outputs": [],
   "source": [
    "# go over the folder\n",
    "files = os.listdir(\"experiments\")"
   ]
  },
  {
   "cell_type": "code",
   "execution_count": null,
   "metadata": {},
   "outputs": [],
   "source": [
    "data: list[(int, DataPoint)] = []\n",
    "for folder in files:\n",
    "  data_point = DataPoint()\n",
    "  data_point.parseFromFoler(\"experiments/{}\".format(folder))\n",
    "  data.append([int(folder), data_point])"
   ]
  },
  {
   "cell_type": "code",
   "execution_count": null,
   "metadata": {},
   "outputs": [],
   "source": [
    "load = []\n",
    "with open(\"rps.txt\") as f:\n",
    "  load = list(map(int, f.read().split()))"
   ]
  },
  {
   "cell_type": "code",
   "execution_count": null,
   "metadata": {},
   "outputs": [],
   "source": [
    "import plotly.express as px\n",
    "import pandas as pd"
   ]
  },
  {
   "cell_type": "code",
   "execution_count": null,
   "metadata": {},
   "outputs": [],
   "source": [
    "data.sort(key=lambda x: x[0])\n",
    "df = pd.DataFrame({\n",
    "  \"load\": [load[x[0] - 1] for x in data],\n",
    "  \"throughput\": [x[1].throughput for x in data],\n",
    "  \"latency\": [x[1].latency_99th for x in data],\n",
    "  \"cpu_usage\": [x[1].cpu_usage for x in data]\n",
    "})\n",
    "df.to_csv(\"data.csv\", index=False)"
   ]
  },
  {
   "cell_type": "code",
   "execution_count": null,
   "metadata": {},
   "outputs": [],
   "source": [
    "import plotly.graph_objects as go\n",
    "from plotly.subplots import make_subplots\n",
    "\n",
    "fig = make_subplots(2, 2)\n",
    "\n",
    "# Load vs CPU\n",
    "fig.add_trace(\n",
    "  go.Scatter(x=df[\"load\"], y=df[\"cpu_usage\"], mode=\"markers\", showlegend=False),\n",
    "  row=1, col=1\n",
    ")\n",
    "\n",
    "fig.update_xaxes(title=\"Load (Request/s)\", row=1, col=1)\n",
    "fig.update_yaxes(title=\"CPU Usage (%)\", row=1, col=1)\n",
    "\n",
    "# Load vs. actual throughput\n",
    "fig.add_trace(\n",
    "  go.Scatter(x=df[\"load\"], y=df[\"throughput\"], mode=\"markers\", showlegend=False),\n",
    "  row=1, col=2\n",
    ")\n",
    "\n",
    "fig.update_xaxes(title=\"Load (Request/s)\", row=1, col=2)\n",
    "fig.update_yaxes(title=\"Throughput (Request/s)\", row=1, col=2)\n",
    "\n",
    "# Load vs. latency\n",
    "fig.add_trace(\n",
    "  go.Scatter(x=df[\"load\"], y=df[\"latency\"], mode=\"markers\", showlegend=False),\n",
    "  row=2, col=1\n",
    ")\n",
    "\n",
    "fig.update_xaxes(title=\"Load (Request/s)\", row=2, col=1)\n",
    "fig.update_yaxes(title=\"99th Latency (ms)\", row=2, col=1)\n",
    "\n",
    "# Throughput vs. Latency\n",
    "fig.add_trace(\n",
    "  go.Scatter(x=df[\"throughput\"], y=df[\"latency\"], mode=\"markers\", showlegend=False),\n",
    "  row=2, col=2\n",
    ")\n",
    "\n",
    "fig.update_xaxes(title=\"Throughput (Request/s)\", row=2, col=2)\n",
    "fig.update_yaxes(title=\"99th Latency (ms)\", row=2, col=2)\n",
    "\n",
    "fig.update_layout(width=1280, height=600)\n",
    "\n",
    "fig.show()"
   ]
  },
  {
   "cell_type": "code",
   "execution_count": null,
   "metadata": {},
   "outputs": [],
   "source": []
  }
 ],
 "metadata": {
  "interpreter": {
   "hash": "a64dd0363cc9ecd8a10765438116a97b8176073d6ab7fdab8678f6615dd20e1b"
  },
  "kernelspec": {
   "display_name": "Python 3.9.5 64-bit ('base': conda)",
   "language": "python",
   "name": "python3"
  },
  "language_info": {
   "codemirror_mode": {
    "name": "ipython",
    "version": 3
   },
   "file_extension": ".py",
   "mimetype": "text/x-python",
   "name": "python",
   "nbconvert_exporter": "python",
   "pygments_lexer": "ipython3",
   "version": "3.9.5"
  },
  "orig_nbformat": 4
 },
 "nbformat": 4,
 "nbformat_minor": 2
}
