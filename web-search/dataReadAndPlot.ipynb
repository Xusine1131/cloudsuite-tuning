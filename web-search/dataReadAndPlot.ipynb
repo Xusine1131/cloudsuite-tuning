{
 "cells": [
  {
   "cell_type": "code",
   "execution_count": 325,
   "metadata": {},
   "outputs": [
    {
     "name": "stdout",
     "output_type": "stream",
     "text": [
      "p90th:[0.15, 2.475, 2.475, 0.235, 0.115, 0.118, 2.475, 0.18, 2.475, 0.105, 0.133, 2.475, 2.475, 0.108, 0.215, 0.12, 0.113, 2.475, 2.475, 0.113, 2.475, 0.23, 0.118, 2.475, 0.12, 2.475]\n",
      "avg:[0.059, 2.835, 1.925, 0.09, 0.045, 0.047, 1.04, 0.071, 1.759, 0.043, 0.052, 1.104, 2.342, 0.04, 0.086, 0.048, 0.044, 1.874, 2.547, 0.045, 1.091, 0.094, 0.045, 1.911, 0.047, 1.096]\n",
      "throughput:[9.833, 146.833, 156.733, 158.4, 61.767, 110.633, 167.2, 159.067, 162.1, 58.667, 112.9, 166.333, 165.333, 10.6, 160.833, 110.733, 61.2, 159.2, 155.0, 9.933, 166.3, 157.667, 9.833, 157.633, 59.867, 164.533]\n",
      "totalOps:[295.0, 4405.0, 4702.0, 4752.0, 1853.0, 3319.0, 5016.0, 4772.0, 4863.0, 1760.0, 3387.0, 4990.0, 4960.0, 318.0, 4825.0, 3322.0, 1836.0, 4776.0, 4650.0, 298.0, 4989.0, 4730.0, 295.0, 4729.0, 1796.0, 4936.0]\n",
      "p99th:[0.275, 2.475, 2.475, 0.57, 0.235, 0.233, 2.475, 0.423, 2.475, 0.195, 0.278, 2.475, 2.475, 0.188, 0.553, 0.233, 0.23, 2.475, 2.475, 0.195, 2.475, 0.603, 0.225, 2.475, 0.235, 2.475]\n"
     ]
    }
   ],
   "source": [
    "import numpy as np\n",
    "import matplotlib.pyplot as plt\n",
    "import re\n",
    "import string\n",
    "import xml.etree.ElementTree as ET\n",
    "import pickle\n",
    "%matplotlib inline\n",
    "num_cpu = 64\n",
    "clientCPU = range(0,16)\n",
    "serverCPU = range(16,24)\n",
    "idle_times={}\n",
    "for i in range(num_cpu):\n",
    "    idle_times[i]=[]\n",
    "    \n",
    "outputfolder = \"22_aug/8_core_perf\"\n",
    "outputfolder = \"output_arm\"\n",
    "utilFile = outputfolder+\"/util.txt\"\n",
    "operationsFile = outputfolder+\"/operations.txt\"\n",
    "benchmarkFile = outputfolder+\"/benchmark.txt\"\n",
    "perfFile = outputfolder+\"/perf.txt\"\n",
    "with open(utilFile) as f:\n",
    "    utilBigList = f.read().split(\"@\")[1:]\n",
    "\n",
    "for utilSingle in utilBigList:\n",
    "    idle_times_temp = {}\n",
    "    for i in range(num_cpu):\n",
    "        idle_times_temp[i]=[]\n",
    "    stringNewLine = utilSingle.split('\\n')[2:]\n",
    "    for stringLine in stringNewLine:        \n",
    "        words = stringLine.split()\n",
    "        if(len(words)>=2 and words[1].isdigit()):\n",
    "            CPU = int(words[1])\n",
    "            idle = float(words[-1].rstrip('\\x00'))\n",
    "            idle_times_temp[CPU].append(idle)\n",
    "    for i in range(num_cpu):\n",
    "        idle_times[i].append(idle_times_temp[i])\n",
    "idle_times_avg = {}\n",
    "for i in range(num_cpu):\n",
    "    idle_times_avg[i]=[]\n",
    "    for times in idle_times[i]:\n",
    "        idle_times_avg[i].append(np.mean(times))\n",
    "#         if np.isnan(np.mean(times)):\n",
    "#             print(times)\n",
    "#             print(np.mean(times))\n",
    "#print(idle_times_avg)\n",
    "\n",
    "with open(operationsFile) as f:                                                                                                                                                                                     \n",
    "    operationsStr = f.read().split('\\n')[:-1]\n",
    "operations = np.array(map(int, operationsStr))\n",
    "def show(elem):\n",
    "    print elem.tag\n",
    "    for child in elem.findall('*'):\n",
    "        show(child)\n",
    "        \n",
    "        \n",
    "def readPerf(perfFile):\n",
    "    instructionsU = []\n",
    "    instructionsK = []\n",
    "    cycles = []\n",
    "    with open(perfFile) as f:\n",
    "        lines = f.readlines()\n",
    "        for line in lines:\n",
    "            if re.search('instructions:u', line, re.I):\n",
    "                instructionsU.append(float(line.split()[0]))\n",
    "            if re.search('instructions:k', line, re.I):\n",
    "                instructionsK.append(float(line.split()[0]))\n",
    "            if re.search('cycles', line, re.I):\n",
    "                cycles.append(float(line.split()[0]))\n",
    "    instructionsU = np.array(instructionsU)\n",
    "    instructionsK = np.array(instructionsK)\n",
    "    cycles = np.array(cycles)\n",
    "    ipcU = instructionsU/cycles\n",
    "    ipcK = instructionsK/cycles\n",
    "    ipcTotal = ipcU + ipcK\n",
    "    return {\n",
    "        \"instructionsU\":instructionsU,\n",
    "        \"instructionsK\":instructionsK,\n",
    "        \"cycles\":cycles,\n",
    "        \"ipcU\":ipcU,\n",
    "        \"ipcK\":ipcK,\n",
    "        \"ipcTotal\":ipcTotal\n",
    "    }\n",
    "# readPerf(perfFile)\n",
    "                \n",
    "                \n",
    "def readBenchmark(benchmarkFile):\n",
    "    xmlList = []\n",
    "    start = 0\n",
    "    with open(benchmarkFile) as f:\n",
    "        content = f.read()\n",
    "        while(True):\n",
    "            a = ( string.find(content,\"<benchResults>\"))\n",
    "            \n",
    "            b = ( string.find(content[start:],\"</benchResults>\")) + len(\"</benchResults>\")\n",
    "\n",
    "            if (a is not -1 and b is not -1):\n",
    "                xmlList.append(content[a:b])\n",
    "                content = content[b:]\n",
    "            else:\n",
    "                break\n",
    "    avg = []\n",
    "    p90th = []\n",
    "    p99th = []\n",
    "    totalOps = []\n",
    "    throughput = []\n",
    "    for xml in xmlList:\n",
    "        benchResult = ET.fromstring(xml)\n",
    "        driverSummary = benchResult.find(\"driverSummary\")\n",
    "        avg.append(float(driverSummary.find(\"responseTimes/operation/avg\").text))\n",
    "        p90th.append(float(driverSummary.find(\"responseTimes/operation/p90th\").text.replace('>','')))\n",
    "        p99th.append(float(driverSummary.find(\"responseTimes/operation/p99th\").text.replace('>','')))\n",
    "        totalOps.append(float(driverSummary.find(\"totalOps\").text))\n",
    "        throughput.append(float(driverSummary.find(\"metric\").text))\n",
    "    return {\n",
    "        \"avg\":avg,\n",
    "        \"p90th\":p90th,\n",
    "        \"p99th\":p99th,\n",
    "        \"totalOps\":totalOps,\n",
    "        \"throughput\":throughput\n",
    "    }\n",
    "    \n",
    "\n",
    "    \n",
    "    \n",
    "    \n",
    "    \n",
    "    \n",
    "    \n",
    "    \n",
    "\n",
    "\n",
    "results = readBenchmark(benchmarkFile)\n",
    "for result in results:\n",
    "    print(\"{}:{}\".format(result,results[result]))\n",
    "for cpu in idle_times_avg:\n",
    "    idle_times_avg[cpu] = np.array(idle_times_avg[cpu])\n",
    "\n",
    "   \n",
    "\n",
    "\n"
   ]
  },
  {
   "cell_type": "code",
   "execution_count": null,
   "metadata": {},
   "outputs": [],
   "source": []
  },
  {
   "cell_type": "code",
   "execution_count": 326,
   "metadata": {
    "scrolled": false
   },
   "outputs": [],
   "source": [
    "bench1 = readBenchmark(benchmarkFile)\n",
    "perf1 = readPerf(perfFile)\n",
    "for x in perf1:\n",
    "    bench1[x] = perf1[x]\n",
    "#bench1 = readBenchmark(\"output/benchmark2.txt\")\n",
    "for i in idle_times_avg:\n",
    "    idle_times_avg[i]=idle_times_avg[i][0:len(bench1[\"throughput\"])]\n",
    "operations = operations[:len(bench1[\"throughput\"])]\n",
    "util_bench = idle_times_avg[0]*0\n",
    "util_server = idle_times_avg[0]*0\n",
    "for i in range(num_cpu):\n",
    "    if i in clientCPU:\n",
    "        util_bench = util_bench + idle_times_avg[i]\n",
    "    elif i in serverCPU:\n",
    "        util_server = util_server + idle_times_avg[i]\n",
    "util_bench = 100.0 - util_bench/len(clientCPU)\n",
    "util_server = 100.0 - util_server/(len(serverCPU))\n",
    "bench1[\"CPUUtilClient\"] = util_bench\n",
    "bench1[\"CPUUtilServer\"] = util_server\n"
   ]
  },
  {
   "cell_type": "code",
   "execution_count": 327,
   "metadata": {},
   "outputs": [],
   "source": [
    "\n",
    "values = [\"avg\",\"p90th\",\"p99th\",\"totalOps\",\"throughput\",\"CPUUtilClient\",\"CPUUtilServer\",\"instructionsU\",\"instructionsK\",\"cycles\",\"ipcU\",\"ipcK\",\"ipcTotal\"]\n",
    "benchStdMean = {}\n",
    "for value in values:\n",
    "    benchStdMean[value] = []\n",
    "operations = operations[0:len(bench1[\"avg\"])]\n",
    "\n",
    "unique_op={}\n",
    "for i in range(len(operations)):\n",
    "    if operations[i] not in unique_op:\n",
    "        unique_op[operations[i]] = operations[i]\n",
    "sorted_op = np.sort(unique_op.keys())\n",
    "for op in sorted_op:\n",
    "    ii = np.where(operations == op)[0]\n",
    "    for value in values:\n",
    "        benchStdMean[value].append(np.take(bench1[value],ii))\n",
    "for value in values:\n",
    "    benchStdMean[value+\"Mean\"] = []\n",
    "    for x in benchStdMean[value]:\n",
    "        benchStdMean[value+\"Mean\"].append(np.mean(x)) \n",
    "    benchStdMean[value+\"Std\"] = []\n",
    "    for x in benchStdMean[value]:\n",
    "        benchStdMean[value+\"Std\"].append(np.std(x)) \n",
    "for value in benchStdMean:\n",
    "    benchStdMean[value]=np.array(benchStdMean[value])"
   ]
  },
  {
   "cell_type": "code",
   "execution_count": null,
   "metadata": {},
   "outputs": [],
   "source": []
  },
  {
   "cell_type": "code",
   "execution_count": 330,
   "metadata": {},
   "outputs": [
    {
     "data": {
      "text/plain": [
       "<matplotlib.figure.Figure at 0x7fc8c40c4a50>"
      ]
     },
     "metadata": {},
     "output_type": "display_data"
    },
    {
     "data": {
      "image/png": "[encoded data removed]",
      "text/plain": [
       "<matplotlib.figure.Figure at 0x7fc8c41a25d0>"
      ]
     },
     "metadata": {},
     "output_type": "display_data"
    },
    {
     "data": {
      "image/png": "[encoded data removed]",
      "text/plain": [
       "<matplotlib.figure.Figure at 0x7fc8bdbd3110>"
      ]
     },
     "metadata": {},
     "output_type": "display_data"
    }
   ],
   "source": [
    "\n",
    "fig = plt.figure()\n",
    "(a,b) = fig.get_size_inches()\n",
    "plt.figure(figsize=(a, b*4))\n",
    "\n",
    "\n",
    "plt.subplot(4,1,1)\n",
    "plt.errorbar(sorted_op,benchStdMean[\"p90thMean\"],yerr = benchStdMean[\"p90thStd\"],label=\"90th Percentile\",linestyle='None',marker=\".\")\n",
    "plt.errorbar(sorted_op,benchStdMean[\"p99thMean\"],yerr = benchStdMean[\"p99thStd\"],label=\"99th Percentile\",linestyle='None',marker=\".\")\n",
    "plt.errorbar(sorted_op,benchStdMean[\"avgMean\"],yerr = benchStdMean[\"avgStd\"],label=\"Avg\",linestyle='None',marker=\".\")\n",
    "\n",
    "plt.xlabel(\"Threads\")\n",
    "plt.ylabel(\"Latency (s)\")\n",
    "plt.legend()\n",
    "\n",
    "plt.subplot(4,1,2)\n",
    "plt.errorbar(sorted_op,benchStdMean[\"CPUUtilClientMean\"],yerr = benchStdMean[\"CPUUtilClientStd\"],label=\"client\",linestyle='None',marker=\".\")\n",
    "plt.errorbar(sorted_op,benchStdMean[\"CPUUtilServerMean\"],yerr = benchStdMean[\"CPUUtilServerStd\"],label=\"server\",linestyle='None',marker=\".\")\n",
    "plt.legend()\n",
    "plt.xlabel(\"Threads\")\n",
    "plt.ylabel(\"CPU Util (%)\")\n",
    "\n",
    "\n",
    "plt.subplot(4,1,3)\n",
    "plt.errorbar(sorted_op,benchStdMean[\"throughputMean\"],yerr = benchStdMean[\"throughputStd\"],label=\"Throughput\",linestyle='None',marker=\".\")\n",
    "plt.xlabel(\"Threads\")\n",
    "plt.ylabel(\"Throughput (op/s)\")\n",
    "\n",
    "plt.subplot(4,1,4)\n",
    "plt.errorbar(sorted_op,benchStdMean[\"ipcUMean\"],yerr = benchStdMean[\"ipcUStd\"],label=\"User\",linestyle='None',marker=\".\")\n",
    "plt.errorbar(sorted_op,benchStdMean[\"ipcKMean\"],yerr = benchStdMean[\"ipcKStd\"],label=\"Kernel\",linestyle='None',marker=\".\")\n",
    "plt.errorbar(sorted_op,benchStdMean[\"ipcTotalMean\"],yerr = benchStdMean[\"ipcTotalStd\"],label=\"Total\",linestyle='None',marker=\".\")\n",
    "plt.legend()\n",
    "plt.xlabel(\"Threads\")\n",
    "plt.ylabel(\"IPC\")\n",
    "\n",
    "plt.savefig(outputfolder + \".png\")\n",
    "# plt.savefig(\"Web_search_result.png\")\n",
    "plt.show()\n",
    "plt.figure(1)\n",
    "plt.errorbar(sorted_op,benchStdMean[\"instructionsUMean\"],yerr = benchStdMean[\"instructionsUStd\"],label=\"User\",linestyle='None',marker=\".\")\n",
    "plt.errorbar(sorted_op,benchStdMean[\"instructionsKMean\"],yerr = benchStdMean[\"instructionsKStd\"],label=\"Kernel\",linestyle='None',marker=\".\")\n",
    "# plt.errorbar(sorted_op,benchStdMean[\"ipcTotalMean\"],yerr = benchStdMean[\"ipcTotalStd\"],label=\"Total\",linestyle='None',marker=\".\")\n",
    "plt.legend()\n",
    "plt.xlabel(\"Threads\")\n",
    "plt.ylabel(\"IPC\")\n",
    "plt.show()"
   ]
  },
  {
   "cell_type": "code",
   "execution_count": 332,
   "metadata": {},
   "outputs": [
    {
     "name": "stdout",
     "output_type": "stream",
     "text": [
      "[ 20 120 220 320 420 520 620]\n",
      "[  5.38653747e+10   3.24012835e+11   5.94006126e+11   8.39924843e+11\n",
      "   9.24977610e+11   9.20970287e+11   9.10717749e+11]\n",
      "[  3.40351115e+08   7.12687125e+08   1.03390490e+09   1.60870256e+09\n",
      "   1.54462604e+09   1.68821040e+09   2.13755486e+09]\n"
     ]
    }
   ],
   "source": [
    "print(sorted_op)\n",
    "print(benchStdMean[\"instructionsUMean\"])\n",
    "print(benchStdMean[\"instructionsKMean\"])\n",
    "# for i in range(sorted_op):\n",
    "#     print(\"\"{})\n",
    "# benchStdMean[\"p90thStd\"]\n",
    "# pickle.dump( benchStdMean, open( \"data.dump\", \"wb\" ) )\n",
    "# pickle.dump(sorted_op,open(\"operations.dump\",\"wb\"))"
   ]
  },
  {
   "cell_type": "code",
   "execution_count": 320,
   "metadata": {},
   "outputs": [
    {
     "ename": "KeyError",
     "evalue": "'readLatency99Mean'",
     "output_type": "error",
     "traceback": [
      "\u001b[0;31m---------------------------------------------------------------------------\u001b[0m",
      "\u001b[0;31mKeyError\u001b[0m                                  Traceback (most recent call last)",
      "\u001b[0;32m<ipython-input-320-30f0a3b56099>\u001b[0m in \u001b[0;36m<module>\u001b[0;34m()\u001b[0m\n\u001b[0;32m----> 1\u001b[0;31m \u001b[0mbenchStdMean\u001b[0m\u001b[0;34m[\u001b[0m\u001b[0;34m\"readLatency99Mean\"\u001b[0m\u001b[0;34m]\u001b[0m\u001b[0;34m\u001b[0m\u001b[0m\n\u001b[0m\u001b[1;32m      2\u001b[0m \u001b[0;32mfor\u001b[0m \u001b[0mi\u001b[0m \u001b[0;32min\u001b[0m \u001b[0mrange\u001b[0m\u001b[0;34m(\u001b[0m\u001b[0mlen\u001b[0m\u001b[0;34m(\u001b[0m\u001b[0msorted_op\u001b[0m\u001b[0;34m)\u001b[0m\u001b[0;34m)\u001b[0m\u001b[0;34m:\u001b[0m\u001b[0;34m\u001b[0m\u001b[0m\n\u001b[1;32m      3\u001b[0m     \u001b[0;32mprint\u001b[0m\u001b[0;34m(\u001b[0m\u001b[0;34m\"{}:{}\"\u001b[0m\u001b[0;34m.\u001b[0m\u001b[0mformat\u001b[0m\u001b[0;34m(\u001b[0m\u001b[0msorted_op\u001b[0m\u001b[0;34m[\u001b[0m\u001b[0mi\u001b[0m\u001b[0;34m]\u001b[0m\u001b[0;34m,\u001b[0m\u001b[0mbenchStdMean\u001b[0m\u001b[0;34m[\u001b[0m\u001b[0;34m\"readLatency99Mean\"\u001b[0m\u001b[0;34m]\u001b[0m\u001b[0;34m[\u001b[0m\u001b[0mi\u001b[0m\u001b[0;34m]\u001b[0m\u001b[0;34m/\u001b[0m\u001b[0mbenchStdMean\u001b[0m\u001b[0;34m[\u001b[0m\u001b[0;34m\"updateLatency99Mean\"\u001b[0m\u001b[0;34m]\u001b[0m\u001b[0;34m[\u001b[0m\u001b[0mi\u001b[0m\u001b[0;34m]\u001b[0m\u001b[0;34m)\u001b[0m\u001b[0;34m)\u001b[0m\u001b[0;34m\u001b[0m\u001b[0m\n\u001b[1;32m      4\u001b[0m \u001b[0;32mprint\u001b[0m\u001b[0;34m(\u001b[0m\u001b[0;34m\"Avg\"\u001b[0m\u001b[0;34m)\u001b[0m\u001b[0;34m\u001b[0m\u001b[0m\n\u001b[1;32m      5\u001b[0m \u001b[0;32mfor\u001b[0m \u001b[0mi\u001b[0m \u001b[0;32min\u001b[0m \u001b[0mrange\u001b[0m\u001b[0;34m(\u001b[0m\u001b[0mlen\u001b[0m\u001b[0;34m(\u001b[0m\u001b[0msorted_op\u001b[0m\u001b[0;34m)\u001b[0m\u001b[0;34m)\u001b[0m\u001b[0;34m:\u001b[0m\u001b[0;34m\u001b[0m\u001b[0m\n",
      "\u001b[0;31mKeyError\u001b[0m: 'readLatency99Mean'"
     ]
    }
   ],
   "source": [
    "benchStdMean[\"readLatency99Mean\"]\n",
    "for i in range(len(sorted_op)):\n",
    "    print(\"{}:{}\".format(sorted_op[i],benchStdMean[\"readLatency99Mean\"][i]/benchStdMean[\"updateLatency99Mean\"][i]))\n",
    "print(\"Avg\")\n",
    "for i in range(len(sorted_op)):\n",
    "    print(\"{}:{}\".format(sorted_op[i],benchStdMean[\"readLatencyAvgMean\"][i]/benchStdMean[\"updateLatencyAvgMean\"][i]))    \n"
   ]
  },
  {
   "cell_type": "code",
   "execution_count": null,
   "metadata": {},
   "outputs": [],
   "source": [
    "benchStdMean[\"updateLatency95Mean\"]"
   ]
  },
  {
   "cell_type": "code",
   "execution_count": null,
   "metadata": {},
   "outputs": [],
   "source": [
    "import csv\n",
    "x = []\n",
    "x.append(\"Operations\")\n",
    "for value in sorted(benchStdMean, key=str.lower):\n",
    "    x.append(value)\n",
    "\n",
    "y = []\n",
    "y.append(x)\n",
    "for i in range(len(sorted_op)):\n",
    "    x=[]\n",
    "    x.append(sorted_op[i])\n",
    "    for value in sorted(benchStdMean, key=str.lower):\n",
    "        x.append(benchStdMean[value][i])\n",
    "    y.append(x)\n",
    "# print(len(y))\n",
    "# print(y[0])\n",
    "for x in zip(*y):\n",
    "    print(x)\n",
    "#     print(\"-------------------------------\")\n",
    "    break\n",
    "# data"
   ]
  },
  {
   "cell_type": "code",
   "execution_count": 271,
   "metadata": {},
   "outputs": [],
   "source": [
    "with open(\"new_file.csv\",\"w+\") as my_csv:\n",
    "    csvWriter = csv.writer(my_csv,delimiter=',')\n",
    "    csvWriter.writerows(y)"
   ]
  },
  {
   "cell_type": "code",
   "execution_count": null,
   "metadata": {},
   "outputs": [],
   "source": []
  },
  {
   "cell_type": "code",
   "execution_count": null,
   "metadata": {},
   "outputs": [],
   "source": []
  },
  {
   "cell_type": "code",
   "execution_count": null,
   "metadata": {},
   "outputs": [],
   "source": []
  },
  {
   "cell_type": "code",
   "execution_count": null,
   "metadata": {},
   "outputs": [],
   "source": []
  },
  {
   "cell_type": "code",
   "execution_count": null,
   "metadata": {},
   "outputs": [],
   "source": []
  },
  {
   "cell_type": "code",
   "execution_count": null,
   "metadata": {},
   "outputs": [],
   "source": []
  },
  {
   "cell_type": "code",
   "execution_count": null,
   "metadata": {},
   "outputs": [],
   "source": []
  },
  {
   "cell_type": "code",
   "execution_count": null,
   "metadata": {},
   "outputs": [],
   "source": []
  },
  {
   "cell_type": "code",
   "execution_count": null,
   "metadata": {},
   "outputs": [],
   "source": []
  },
  {
   "cell_type": "code",
   "execution_count": null,
   "metadata": {},
   "outputs": [],
   "source": []
  },
  {
   "cell_type": "code",
   "execution_count": null,
   "metadata": {},
   "outputs": [],
   "source": []
  }
 ],
 "metadata": {
  "kernelspec": {
   "display_name": "Python 2",
   "language": "python",
   "name": "python2"
  },
  "language_info": {
   "codemirror_mode": {
    "name": "ipython",
    "version": 2
   },
   "file_extension": ".py",
   "mimetype": "text/x-python",
   "name": "python",
   "nbconvert_exporter": "python",
   "pygments_lexer": "ipython2",
   "version": "2.7.15"
  }
 },
 "nbformat": 4,
 "nbformat_minor": 2
}
