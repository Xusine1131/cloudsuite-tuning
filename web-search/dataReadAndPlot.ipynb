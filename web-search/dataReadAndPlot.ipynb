{
 "cells": [
  {
   "cell_type": "markdown",
   "metadata": {},
   "source": [
    "The cell below contains the import statements, the variables and the parsing functions used.\n",
    "\n",
    "### Important variables\n",
    "\n",
    "1. **num_cpu**:  total number of cpu cores in the machine the benchmark was run on.\n",
    "2. **outputfolder**: The folder which contains the output files the benchmark_run.sh script generated. \n",
    "\n",
    "### Important Files\n",
    "\n",
    "1. **utilFile**: Contains the mpstat output. The seperated \"@\" is used to differentiate different load runs.\n",
    "2. **operationsFile**: Contains the list of loads the experiment was run on.\n",
    "3. **benchmarkFile**: Contains the output of the benchmark itself. \n",
    "4. **perfFile**: Contains the perf output.\n",
    "5. **envFile**: Contains all the enviroment variables of the run.\n",
    "\n",
    "### Important Functions\n",
    "\n",
    "1. **getClientServerCPUs()**: Reads the CPU cores assigned to the server and the client using the environment variables file.\n",
    "2. **readCPUUtil()**: Reads the CPU utilization of the cores assigned to the server and the client. It used the \"idle_time\" output of mpstat to calculate the cpu utilization. \n",
    "3. **readOperations**: Uses the operationsFile to read the different loads the experiment was run on. Here load/operations refers to the number of threads in the web-search benchmark.\n",
    "4. **readPerf**: Reads the perfFile to calculate the IPC.\n",
    "5. **readBenchmark**: Reads and parsed the benchmarkFile.\n",
    "6. **writeCSV**: Used to generate a CSV file which contains all the relevant quantities calculated. \n"
   ]
  },
  {
   "cell_type": "code",
   "execution_count": 857,
   "metadata": {},
   "outputs": [],
   "source": [
    "import numpy as np\n",
    "import matplotlib.pyplot as plt\n",
    "import re\n",
    "import string\n",
    "import xml.etree.ElementTree as ET\n",
    "import csv\n",
    "%matplotlib inline\n",
    "num_cpu = 64 \n",
    "outputfolder = \"output_arm\"\n",
    "utilFile = outputfolder+\"/util.txt\"\n",
    "operationsFile = outputfolder+\"/operations.txt\"\n",
    "benchmarkFile = outputfolder+\"/benchmark.txt\"\n",
    "perfFile = outputfolder+\"/perf.txt\"\n",
    "envFile = outputfolder+\"/env.txt\"\n",
    "    \n",
    "def writeCSV(filename,sorted_op,benchStdMean):\n",
    "    ''' Writes the data to a CSV file'''\n",
    "    x = []\n",
    "    x.append(\"Operations\")\n",
    "    for value in sorted(benchStdMean, key=str.lower):\n",
    "        x.append(value)\n",
    "\n",
    "    y = []\n",
    "    y.append(x)\n",
    "    for i in range(len(sorted_op)):\n",
    "        x=[]\n",
    "        x.append(sorted_op[i])\n",
    "        for value in sorted(benchStdMean, key=str.lower):\n",
    "            x.append(benchStdMean[value][i])\n",
    "        y.append(x)\n",
    "    with open(filename,\"w+\") as my_csv:\n",
    "        csvWriter = csv.writer(my_csv,delimiter=',')\n",
    "        csvWriter.writerows(y)\n",
    "''' The following are the parsing modules for the different files generated '''\n",
    "\n",
    "def getCPUsFromLine(CPULine):\n",
    "    ''' Used by the '''\n",
    "    serverCPU = []\n",
    "    for CPUs in CPULine.split(\",\"):\n",
    "        if CPUs.isdigit():\n",
    "            serverCPUCurr = [int(CPUs)]\n",
    "        else:\n",
    "            CPUs = CPUs.split(\"-\")\n",
    "            if not (CPUs[0].isdigit() and CPUs[1].isdigit()):\n",
    "                print(\"ERRORERRORERROR\")\n",
    "            else:\n",
    "                serverCPUCurr = range(int(CPUs[0]),int(CPUs[1]) + 1)\n",
    "        serverCPU = serverCPU + serverCPUCurr\n",
    "    return serverCPU\n",
    "def getClientServerCPUs(envFile):\n",
    "    clientCPU = None\n",
    "    serverCPU = None\n",
    "    with open(envFile) as f:\n",
    "        lines = f.readlines()\n",
    "        for line in lines:\n",
    "            if re.search('CLIENT_CPUS', line, re.I):\n",
    "                CPUs = line.replace('\\n','').split('=')[1]\n",
    "                clientCPU = getCPUsFromLine(CPUs)\n",
    "            if re.search('SERVER_CPUS', line, re.I):\n",
    "                CPUs = line.replace('\\n','').split('=')[1]\n",
    "                serverCPU = getCPUsFromLine(CPUs)\n",
    "    return serverCPU,clientCPU\n",
    "\n",
    "\n",
    "def readCPUUtil(utilFile,serverCPU,clientCPU):\n",
    "    idle_times={}\n",
    "    for i in range(num_cpu):\n",
    "        idle_times[i]=[]\n",
    "    with open(utilFile) as f:\n",
    "        utilBigList = f.read().split(\"@\")[1:]\n",
    "    for utilSingle in utilBigList:\n",
    "        idle_times_temp = {}\n",
    "        for i in range(num_cpu):\n",
    "            idle_times_temp[i]=[]\n",
    "        stringNewLine = utilSingle.split('\\n')[2:]\n",
    "        for stringLine in stringNewLine:        \n",
    "            words = stringLine.split()\n",
    "            if(len(words)>=11 and words[-11].isdigit()):\n",
    "                CPU = int(words[-11])\n",
    "                idle = float(words[-1].rstrip('\\x00'))\n",
    "                idle_times_temp[CPU].append(idle)\n",
    "        for i in range(num_cpu):\n",
    "            idle_times[i].append(idle_times_temp[i])\n",
    "    idle_times_avg = {}\n",
    "    for i in range(num_cpu):\n",
    "        idle_times_avg[i]=[]\n",
    "        for times in idle_times[i]:\n",
    "            idle_times_avg[i].append(np.mean(times))\n",
    "    for cpu in idle_times_avg:\n",
    "        idle_times_avg[cpu] = np.array(idle_times_avg[cpu])\n",
    "    util_bench = idle_times_avg[0]*0\n",
    "    util_server = idle_times_avg[0]*0\n",
    "    for i in range(num_cpu):\n",
    "        if i in clientCPU:\n",
    "            util_bench = util_bench + idle_times_avg[i]\n",
    "        elif i in serverCPU:\n",
    "            util_server = util_server + idle_times_avg[i]\n",
    "    util_bench = 100.0 - util_bench/len(clientCPU)\n",
    "    util_server = 100.0 - util_server/(len(serverCPU))\n",
    "    return {\n",
    "        \"CPUUtilClient\":util_bench,\n",
    "        \"CPUUtilServer\":util_server\n",
    "    }\n",
    "\n",
    "def readOperations(operationsFile):\n",
    "    with open(operationsFile) as f:                                                                                                                                                                                     \n",
    "        operationsStr = f.read().split('\\n')[:-1]\n",
    "    operations = np.array(map(int, operationsStr))\n",
    "    return operations\n",
    "def show(elem):\n",
    "    print elem.tag\n",
    "    for child in elem.findall('*'):\n",
    "        show(child)\n",
    "        \n",
    "        \n",
    "def readPerf(perfFile):\n",
    "    instructionsU = []\n",
    "    instructionsK = []\n",
    "    cycles = []\n",
    "    with open(perfFile) as f:\n",
    "        lines = f.readlines()\n",
    "        for line in lines:\n",
    "            if re.search('instructions:u', line, re.I):\n",
    "                instructionsU.append(float(line.split()[0].replace(',','')))\n",
    "            if re.search('instructions:k', line, re.I):\n",
    "                instructionsK.append(float(line.split()[0].replace(',','')))\n",
    "            if re.search('cycles', line, re.I):\n",
    "                cycles.append(float(line.split()[0].replace(',','')))\n",
    "    instructionsU = np.array(instructionsU)\n",
    "    instructionsK = np.array(instructionsK)\n",
    "    cycles = np.array(cycles)\n",
    "    ipcU = instructionsU/cycles\n",
    "    ipcK = instructionsK/cycles\n",
    "    ipcTotal = ipcU + ipcK\n",
    "    return {\n",
    "        \"instructionsU\":instructionsU,\n",
    "        \"instructionsK\":instructionsK,\n",
    "        \"cycles\":cycles,\n",
    "        \"ipcU\":ipcU,\n",
    "        \"ipcK\":ipcK,\n",
    "        \"ipcTotal\":ipcTotal\n",
    "    }\n",
    "\n",
    "                \n",
    "                \n",
    "def readBenchmark(benchmarkFile):\n",
    "    xmlList = []\n",
    "    start = 0\n",
    "    with open(benchmarkFile) as f:\n",
    "        content = f.read()\n",
    "        while(True):\n",
    "            a = ( string.find(content,\"<benchResults>\"))\n",
    "            \n",
    "            b = ( string.find(content[start:],\"</benchResults>\")) + len(\"</benchResults>\")\n",
    "\n",
    "            if (a is not -1 and b is not -1):\n",
    "                xmlList.append(content[a:b])\n",
    "                content = content[b:]\n",
    "            else:\n",
    "                break\n",
    "    avg = []\n",
    "    p90th = []\n",
    "    p99th = []\n",
    "    totalOps = []\n",
    "    throughput = []\n",
    "    for xml in xmlList:\n",
    "        benchResult = ET.fromstring(xml)\n",
    "        driverSummary = benchResult.find(\"driverSummary\")\n",
    "        avg.append(float(driverSummary.find(\"responseTimes/operation/avg\").text))\n",
    "        p90th.append(float(driverSummary.find(\"responseTimes/operation/p90th\").text.replace('>','')))\n",
    "        p99th.append(float(driverSummary.find(\"responseTimes/operation/p99th\").text.replace('>','')))\n",
    "        totalOps.append(float(driverSummary.find(\"totalOps\").text))\n",
    "        throughput.append(float(driverSummary.find(\"metric\").text))\n",
    "    return {\n",
    "        \"avg\":avg,\n",
    "        \"p90th\":p90th,\n",
    "        \"p99th\":p99th,\n",
    "        \"totalOps\":totalOps,\n",
    "        \"throughput\":throughput\n",
    "    }"
   ]
  },
  {
   "cell_type": "markdown",
   "metadata": {},
   "source": [
    "This blocks calculates the mean an standard deviation using the different values corresponding to the same load (operation). \n",
    "## Important Variables\n",
    "1. **sorted_op**: Contains the list of operations (threads)  in ascending order. \n",
    "2. **benchStdMean**: It's a dictionary of the quantities we are interested in. The values in the dictionaries are arrays in the same order as sorted_op. For a quantity name \"q\", benchStdMean\\[\"qMean\"\\] contains the mean and benchStdMean\\[\"qStd\"\\] contains the standard deviation.\n",
    "3. **values**: This array contains the list of dictionary keys (quantities) in benchStdMean for which the mean and Standard Deviation has to be calculated. New quantities can be added and some can be removed (in case they haven't been parsed properly). **note**: \"avg\" refers to Average Latency.\n"
   ]
  },
  {
   "cell_type": "code",
   "execution_count": 858,
   "metadata": {
    "scrolled": false
   },
   "outputs": [],
   "source": [
    "\n",
    "operations = readOperations(operationsFile)\n",
    "bench1 = readBenchmark(benchmarkFile)\n",
    "perf1 = readPerf(perfFile)\n",
    "serverCPU,clientCPU = getClientServerCPUs(envFile)\n",
    "util1 = readCPUUtil(utilFile,serverCPU=serverCPU,clientCPU=clientCPU)\n",
    "for x in perf1:\n",
    "    bench1[x] = perf1[x]\n",
    "for x in util1:\n",
    "    bench1[x] = util1[x]\n",
    "\n",
    "values = [\"avg\",\"p90th\",\"p99th\",\"totalOps\",\"throughput\",\"CPUUtilClient\",\"CPUUtilServer\",\"instructionsU\",\"instructionsK\",\"cycles\",\"ipcU\",\"ipcK\",\"ipcTotal\"]\n",
    "min_len = None\n",
    "for value in values:\n",
    "    if min_len is None:\n",
    "        min_len = len(bench1[value])\n",
    "    if len(bench1[value]) < min_len:\n",
    "        min_len = len(bench1[value])\n",
    "benchStdMean = {}\n",
    "for value in values:\n",
    "    benchStdMean[value] = []\n",
    "operations = operations[0:min_len]\n",
    "\n",
    "unique_op={}\n",
    "for i in range(len(operations)):\n",
    "    if operations[i] not in unique_op:\n",
    "        unique_op[operations[i]] = operations[i]\n",
    "sorted_op = np.sort(unique_op.keys())\n",
    "for op in sorted_op:\n",
    "    ii = np.where(operations == op)[0]\n",
    "    for value in values:\n",
    "        benchStdMean[value].append(np.take(bench1[value],ii))\n",
    "for value in values:\n",
    "    benchStdMean[value+\"Mean\"] = []\n",
    "    for x in benchStdMean[value]:\n",
    "        benchStdMean[value+\"Mean\"].append(np.mean(x)) \n",
    "    benchStdMean[value+\"Std\"] = []\n",
    "    for x in benchStdMean[value]:\n",
    "        benchStdMean[value+\"Std\"].append(np.std(x)) \n",
    "for value in benchStdMean:\n",
    "    benchStdMean[value]=np.array(benchStdMean[value])\n"
   ]
  },
  {
   "cell_type": "markdown",
   "metadata": {},
   "source": [
    "## Plotting\n",
    "The following cell is used to make pretty plots using the calculated quantities. They can be used as a template to make newer plots."
   ]
  },
  {
   "cell_type": "code",
   "execution_count": 859,
   "metadata": {},
   "outputs": [
    {
     "data": {
      "text/plain": [
       "<matplotlib.figure.Figure at 0x7f2941129290>"
      ]
     },
     "metadata": {},
     "output_type": "display_data"
    },
    {
     "data": {
      "image/png": "[encoded data removed]",
      "text/plain": [
       "<matplotlib.figure.Figure at 0x7f29411d0fd0>"
      ]
     },
     "metadata": {},
     "output_type": "display_data"
    },
    {
     "data": {
      "image/png": "[encoded data removed]",
      "text/plain": [
       "<matplotlib.figure.Figure at 0x7f293ecfa290>"
      ]
     },
     "metadata": {},
     "output_type": "display_data"
    },
    {
     "data": {
      "image/png": "[encoded data removed]",
      "text/plain": [
       "<matplotlib.figure.Figure at 0x7f293ed90310>"
      ]
     },
     "metadata": {},
     "output_type": "display_data"
    }
   ],
   "source": [
    "\n",
    "fig = plt.figure()\n",
    "(a,b) = fig.get_size_inches()\n",
    "plt.figure(figsize=(a, b*4))\n",
    "\n",
    "\n",
    "plt.subplot(4,1,1)\n",
    "plt.errorbar(sorted_op,benchStdMean[\"p90thMean\"],yerr = benchStdMean[\"p90thStd\"],label=\"90th Percentile\",linestyle='None',marker=\".\")\n",
    "plt.errorbar(sorted_op,benchStdMean[\"p99thMean\"],yerr = benchStdMean[\"p99thStd\"],label=\"99th Percentile\",linestyle='None',marker=\".\")\n",
    "plt.errorbar(sorted_op,benchStdMean[\"avgMean\"],yerr = benchStdMean[\"avgStd\"],label=\"Avg\",linestyle='None',marker=\".\")\n",
    "\n",
    "plt.xlabel(\"Threads\")\n",
    "plt.ylabel(\"Latency (s)\")\n",
    "plt.legend()\n",
    "\n",
    "plt.subplot(4,1,2)\n",
    "plt.errorbar(sorted_op,benchStdMean[\"CPUUtilClientMean\"],yerr = benchStdMean[\"CPUUtilClientStd\"],label=\"client\",linestyle='None',marker=\".\")\n",
    "plt.errorbar(sorted_op,benchStdMean[\"CPUUtilServerMean\"],yerr = benchStdMean[\"CPUUtilServerStd\"],label=\"server\",linestyle='None',marker=\".\")\n",
    "plt.legend()\n",
    "plt.xlabel(\"Threads\")\n",
    "plt.ylabel(\"CPU Util (%)\")\n",
    "\n",
    "\n",
    "plt.subplot(4,1,3)\n",
    "plt.errorbar(sorted_op,benchStdMean[\"throughputMean\"],yerr = benchStdMean[\"throughputStd\"],label=\"Throughput\",linestyle='None',marker=\".\")\n",
    "plt.xlabel(\"Threads\")\n",
    "plt.ylabel(\"Throughput (op/s)\")\n",
    "\n",
    "plt.subplot(4,1,4)\n",
    "plt.errorbar(sorted_op,benchStdMean[\"ipcUMean\"],yerr = benchStdMean[\"ipcUStd\"],label=\"User\",linestyle='None',marker=\".\")\n",
    "plt.errorbar(sorted_op,benchStdMean[\"ipcKMean\"],yerr = benchStdMean[\"ipcKStd\"],label=\"Kernel\",linestyle='None',marker=\".\")\n",
    "plt.errorbar(sorted_op,benchStdMean[\"ipcTotalMean\"],yerr = benchStdMean[\"ipcTotalStd\"],label=\"Total\",linestyle='None',marker=\".\")\n",
    "plt.legend()\n",
    "plt.xlabel(\"Threads\")\n",
    "plt.ylabel(\"IPC\")\n",
    "\n",
    "plt.savefig(outputfolder + \"/plot.png\",bbox_inches='tight')\n",
    "# plt.savefig(\"Web_search_result.png\")\n",
    "plt.show()\n",
    "plt.figure(1)\n",
    "plt.errorbar(sorted_op,benchStdMean[\"instructionsUMean\"],yerr = benchStdMean[\"instructionsUStd\"],label=\"User\",linestyle='None',marker=\".\")\n",
    "plt.errorbar(sorted_op,benchStdMean[\"instructionsKMean\"],yerr = benchStdMean[\"instructionsKStd\"],label=\"Kernel\",linestyle='None',marker=\".\")\n",
    "# plt.errorbar(sorted_op,benchStdMean[\"ipcTotalMean\"],yerr = benchStdMean[\"ipcTotalStd\"],label=\"Total\",linestyle='None',marker=\".\")\n",
    "plt.legend()\n",
    "plt.xlabel(\"Threads\")\n",
    "plt.ylabel(\"Instructions\")\n",
    "plt.show()\n",
    "plt.figure(1)\n",
    "plt.errorbar(sorted_op,benchStdMean[\"cyclesMean\"],yerr = benchStdMean[\"cyclesStd\"],linestyle='None',marker=\".\")\n",
    "# plt.errorbar(sorted_op,benchStdMean[\"ipcTotalMean\"],yerr = benchStdMean[\"ipcTotalStd\"],label=\"Total\",linestyle='None',marker=\".\")\n",
    "# plt.legend()\n",
    "plt.xlabel(\"Threads\")\n",
    "plt.ylabel(\"Cycles\")\n",
    "plt.show()\n",
    "\n",
    "writeCSV(outputfolder+\"/summary.csv\",sorted_op,benchStdMean)"
   ]
  },
  {
   "cell_type": "markdown",
   "metadata": {},
   "source": [
    "## Do not proceed:\n",
    "The following are the dead remnants of various other scripts mostly used for specific plots. Enter at your own risk."
   ]
  },
  {
   "cell_type": "code",
   "execution_count": 860,
   "metadata": {},
   "outputs": [],
   "source": [
    "# plt.figure()\n",
    "# plt.errorbar(benchStdMean[\"throughputMean\"],benchStdMean[\"p99thMean\"],yerr = benchStdMean[\"p99thStd\"],xerr=benchStdMean[\"throughputStd\"] ,label=\"99th Percentile\",linestyle='None',marker=\".\")\n",
    "# plt.errorbar(benchStdMean[\"throughputMean\"],benchStdMean[\"avgMean\"],yerr = benchStdMean[\"avgStd\"],xerr=benchStdMean[\"throughputStd\"] ,label=\"Average\",linestyle='None',marker=\".\")\n",
    "# plt.legend()\n",
    "# plt.xlabel(\"Throughput (op/s)\")\n",
    "# plt.ylabel(\"Latency (s)\")\n",
    "# plt.show()"
   ]
  },
  {
   "cell_type": "code",
   "execution_count": 861,
   "metadata": {},
   "outputs": [],
   "source": [
    "# plt.figure()\n",
    "# plt.errorbar(benchStdMean_x86[\"throughputMean\"],benchStdMean_x86[\"p99thMean\"],yerr = benchStdMean_x86[\"p99thStd\"],xerr=benchStdMean_x86[\"throughputStd\"] ,label=\"99th Percentile_x86\",linestyle='None',marker=\".\")\n",
    "# plt.errorbar(benchStdMean_x86[\"throughputMean\"],benchStdMean_x86[\"avgMean\"],yerr = benchStdMean_x86[\"avgStd\"],xerr=benchStdMean_x86[\"throughputStd\"] ,label=\"Average_x86\",linestyle='None',marker=\".\")\n",
    "# plt.errorbar(benchStdMean_arm[\"throughputMean\"],benchStdMean_arm[\"p99thMean\"],yerr = benchStdMean_arm[\"p99thStd\"],xerr=benchStdMean_arm[\"throughputStd\"] ,label=\"99th Percentile_ARM\",linestyle='None',marker=\".\")\n",
    "# plt.errorbar(benchStdMean_arm[\"throughputMean\"],benchStdMean_arm[\"avgMean\"],yerr = benchStdMean_arm[\"avgStd\"],xerr=benchStdMean_arm[\"throughputStd\"] ,label=\"Average_ARM\",linestyle='None',marker=\".\")\n",
    "# plt.ylim(ymax=0.8)\n",
    "# plt.legend()\n",
    "# plt.xlabel(\"Throughput (op/s)\")\n",
    "# plt.ylabel(\"Latency (s)\")\n",
    "# plt.savefig(\"arm_vs_x86_latency_8cores_800ms.png\")\n",
    "# plt.show()"
   ]
  },
  {
   "cell_type": "code",
   "execution_count": 862,
   "metadata": {},
   "outputs": [],
   "source": [
    "# print(sorted_op)\n",
    "# for op in sorted_op:\n",
    "#     print(\"{}:{}\".format(op,np.count_nonzero(operations == op)))\n",
    "# for i in range(len(sorted_op)):\n",
    "#     print(sorted_op[i])\n",
    "#     print(benchStdMean[\"p99th\"][i])"
   ]
  },
  {
   "cell_type": "code",
   "execution_count": 863,
   "metadata": {},
   "outputs": [
    {
     "data": {
      "text/plain": [
       "array([150, 210, 270,  50, 310, 130, 350,  10, 250, 290, 190, 230, 330,\n",
       "        90, 170,  30,  70, 110, 150, 190,  90,  30, 310,  70,  50,  10,\n",
       "       230, 210, 130, 330, 350, 270, 110, 290, 170, 250,  30,  10, 210,\n",
       "        70, 230, 110, 350, 270, 290, 330, 310, 190, 150, 130, 250, 170,\n",
       "        90,  50,  30, 330,  90, 290, 170,  10, 250, 190, 230, 110, 270,\n",
       "       310,  70,  50, 350, 150, 210, 130, 290, 230,  10, 170, 330, 350,\n",
       "       250,  90, 190, 270, 210,  30, 310, 110, 130,  70,  50, 150, 130,\n",
       "       350, 150, 210, 230,  10, 290, 110, 310,  50,  30, 330, 170, 190,\n",
       "        70, 270, 250,  90,  50, 170, 350, 190, 330,  30, 210, 290, 230,\n",
       "       250,  70, 270, 130, 310,  10, 150, 110,  90, 330, 250, 210, 290,\n",
       "       150, 170,  10, 350, 190, 310, 230, 110,  70, 130,  90, 270,  50,\n",
       "        30, 330,  70, 230,  50, 130, 350, 250,  10,  90, 310,  30, 290,\n",
       "       210, 190, 150, 170, 270, 110,  10, 330, 350, 130,  70, 210, 150,\n",
       "        30, 290, 310, 170, 190,  90, 110,  50, 270, 250, 230,  50, 250,\n",
       "       310, 210,  10, 170, 290, 150, 330,  30, 270, 190,  70, 130, 230,\n",
       "        90, 110, 350, 150, 310,  50, 270,  70, 190,  90, 210,  10, 290,\n",
       "       350,  30, 110, 130, 170, 230, 250, 330, 210, 110, 190, 130, 170,\n",
       "       290, 250, 310,  10, 330, 150,  90, 230,  50,  70, 350, 270,  30,\n",
       "        90, 170, 210, 190, 310, 350, 230,  70, 130,  10,  30, 250, 290,\n",
       "       330, 270, 150, 110,  50, 210, 230, 250, 290, 170, 130,  90, 350,\n",
       "       110, 150,  50, 270, 310, 190,  70,  30,  10, 330,  10, 130, 190,\n",
       "       350,  50,  30, 110, 310, 250, 290, 270,  90, 210, 170, 150, 230,\n",
       "        70, 330, 190, 130, 350, 230, 110,  10,  50, 310, 290,  30,  90,\n",
       "       250, 270, 150, 170, 210,  70, 330])"
      ]
     },
     "execution_count": 863,
     "metadata": {},
     "output_type": "execute_result"
    }
   ],
   "source": [
    "operations"
   ]
  },
  {
   "cell_type": "code",
   "execution_count": 864,
   "metadata": {},
   "outputs": [
    {
     "data": {
      "image/png": "[encoded data removed]",
      "text/plain": [
       "<matplotlib.figure.Figure at 0x7f293ec60810>"
      ]
     },
     "metadata": {},
     "output_type": "display_data"
    }
   ],
   "source": [
    "x = np.array([])\n",
    "ins_per_req_calc_mean = []\n",
    "ins_per_req_act_mean = []\n",
    "ins_per_req_calc_std = []\n",
    "ins_per_req_act_std = []\n",
    "for i in range(len(sorted_op)):\n",
    "    ins_per_req_calc = benchStdMean[\"avg\"][i]*benchStdMean[\"ipcTotal\"][i]*2.5*1000000000\n",
    "    ins_per_req_act = (benchStdMean[\"instructionsU\"][i]+benchStdMean[\"instructionsK\"][i])/benchStdMean[\"throughput\"][i]\n",
    "    ins_per_req_calc_mean.append(np.mean(ins_per_req_calc))\n",
    "    ins_per_req_calc_std.append(np.std(ins_per_req_calc))\n",
    "    ins_per_req_act_mean.append(np.mean(ins_per_req_act))\n",
    "    ins_per_req_act_std.append(np.std(ins_per_req_act))\n",
    "\n",
    "plt.figure()\n",
    "plt.errorbar(benchStdMean[\"throughputMean\"],ins_per_req_calc_mean,xerr = benchStdMean[\"throughputStd\"],yerr = ins_per_req_calc_std,linestyle='None',marker=\".\",label=\"Formula\")\n",
    "plt.errorbar(benchStdMean[\"throughputMean\"],ins_per_req_act_mean,xerr = benchStdMean[\"throughputStd\"],yerr = ins_per_req_act_std,linestyle='None',marker=\".\",label=\"Directly\")\n",
    "plt.ylabel(\"Instructions/Request\")\n",
    "plt.xlabel(\"Throughput (op/s)\")\n",
    "plt.savefig(outputfolder + \"software_instructions.png\")\n",
    "# plt.errorbar(sorted_op,l_mean,yerr = l_std,linestyle='None',marker=\".\")\n",
    "plt.savefig(\"arm.png\")\n",
    "plt.legend()\n",
    "plt.show()\n",
    "\n"
   ]
  },
  {
   "cell_type": "code",
   "execution_count": 865,
   "metadata": {},
   "outputs": [],
   "source": [
    "# ins_per_req_calc_mean_x86 = ins_per_req_calc_mean\n",
    "# ins_per_req_act_mean_x86 =  ins_per_req_act_mean\n",
    "# ins_per_req_calc_std_x86 =  ins_per_req_calc_std\n",
    "# ins_per_req_act_std_x86 =  ins_per_req_act_std\n",
    "# benchStdMean_x86 = benchStdMean\n",
    "# ins_per_req_calc_mean_arm = ins_per_req_calc_mean\n",
    "# ins_per_req_act_mean_arm =  ins_per_req_act_mean\n",
    "# ins_per_req_calc_std_arm =  ins_per_req_calc_std\n",
    "# ins_per_req_act_std_arm =  ins_per_req_act_std\n",
    "# benchStdMean_arm = benchStdMean"
   ]
  },
  {
   "cell_type": "code",
   "execution_count": 866,
   "metadata": {},
   "outputs": [
    {
     "data": {
      "text/plain": [
       "array([ 0.04841384,  0.04998459,  0.05057399,  0.05089838,  0.05160384,\n",
       "        0.05140817,  0.05171832,  0.05153102,  0.05271243,  0.05282377,\n",
       "        0.05330935,  0.05567604,  0.05634445,  0.05983912,  0.06399747,\n",
       "        0.07514705,  0.09755227,  0.17033646])"
      ]
     },
     "execution_count": 866,
     "metadata": {},
     "output_type": "execute_result"
    }
   ],
   "source": [
    "np.array(ins_per_req_calc_mean)/np.array(ins_per_req_act_mean)"
   ]
  },
  {
   "cell_type": "code",
   "execution_count": 867,
   "metadata": {},
   "outputs": [
    {
     "data": {
      "image/png": "[encoded data removed]",
      "text/plain": [
       "<matplotlib.figure.Figure at 0x7f2943458790>"
      ]
     },
     "metadata": {},
     "output_type": "display_data"
    },
    {
     "data": {
      "image/png": "[encoded data removed]",
      "text/plain": [
       "<matplotlib.figure.Figure at 0x7f294080b2d0>"
      ]
     },
     "metadata": {},
     "output_type": "display_data"
    }
   ],
   "source": [
    "ins_per_req_calc_mean_x86 = np.array(ins_per_req_calc_mean_x86)\n",
    "ins_per_req_calc_mean_arm = np.array(ins_per_req_calc_mean_arm)\n",
    "ins_per_req_calc_std_x86 = np.array(ins_per_req_calc_std_x86)\n",
    "ins_per_req_calc_std_arm = np.array(ins_per_req_calc_std_arm)\n",
    "plt.figure()\n",
    "plt.errorbar(benchStdMean_x86[\"throughputMean\"],ins_per_req_calc_mean_x86*8,xerr = benchStdMean_x86[\"throughputStd\"],yerr = ins_per_req_calc_std_x86*8,linestyle='None',marker=\".\",label=\"x86\")\n",
    "plt.errorbar(benchStdMean_arm[\"throughputMean\"],ins_per_req_calc_mean_arm*8,xerr = benchStdMean_arm[\"throughputStd\"],yerr = ins_per_req_calc_std_arm*8,linestyle='None',marker=\".\",label=\"arm\")\n",
    "plt.ylabel(\"Instructions/Request\")\n",
    "plt.xlabel(\"Throughput (op/s)\")\n",
    "plt.legend()\n",
    "plt.ylim(ymax=3.8e9)\n",
    "plt.title(\"Formula\")\n",
    "plt.savefig(\"formula.png\")\n",
    "plt.show()\n",
    "# plt.plot()\n",
    "plt.figure()\n",
    "plt.errorbar(benchStdMean_x86[\"throughputMean\"],ins_per_req_act_mean_x86,xerr = benchStdMean_x86[\"throughputStd\"],yerr = ins_per_req_act_std_x86,linestyle='None',marker=\".\",label=\"x86\")\n",
    "plt.errorbar(benchStdMean_arm[\"throughputMean\"],ins_per_req_act_mean_arm,xerr = benchStdMean_arm[\"throughputStd\"],yerr = ins_per_req_act_std_arm,linestyle='None',marker=\".\",label=\"arm\")\n",
    "plt.ylabel(\"Instructions/Request\")\n",
    "plt.xlabel(\"Throughput (op/s)\")\n",
    "plt.legend()\n",
    "plt.title(\"Directly\")\n",
    "plt.savefig(\"direct.png\")\n",
    "# plt.ylim(ymax=1e9)\n",
    "plt.show()"
   ]
  },
  {
   "cell_type": "code",
   "execution_count": 868,
   "metadata": {},
   "outputs": [
    {
     "name": "stdout",
     "output_type": "stream",
     "text": [
      "[ 0.17933333  0.1845      0.1835      0.18925     0.182       0.1735\n",
      "  0.1695      0.1705      0.1535      0.1585      0.15375     0.16133333\n",
      "  0.16475     0.1675      0.229       0.44933333  0.43525     0.4115      1.097\n",
      "  2.08125     2.44375     2.475       2.475       2.475     ]\n"
     ]
    }
   ],
   "source": [
    "# print(sorted_op_arm)\n",
    "print(benchStdMean_x86[\"p99thMean\"])"
   ]
  },
  {
   "cell_type": "code",
   "execution_count": null,
   "metadata": {},
   "outputs": [],
   "source": []
  },
  {
   "cell_type": "code",
   "execution_count": null,
   "metadata": {},
   "outputs": [],
   "source": []
  },
  {
   "cell_type": "code",
   "execution_count": null,
   "metadata": {},
   "outputs": [],
   "source": []
  },
  {
   "cell_type": "code",
   "execution_count": null,
   "metadata": {},
   "outputs": [],
   "source": []
  },
  {
   "cell_type": "code",
   "execution_count": null,
   "metadata": {},
   "outputs": [],
   "source": []
  },
  {
   "cell_type": "code",
   "execution_count": null,
   "metadata": {},
   "outputs": [],
   "source": []
  }
 ],
 "metadata": {
  "kernelspec": {
   "display_name": "Python 2",
   "language": "python",
   "name": "python2"
  },
  "language_info": {
   "codemirror_mode": {
    "name": "ipython",
    "version": 2
   },
   "file_extension": ".py",
   "mimetype": "text/x-python",
   "name": "python",
   "nbconvert_exporter": "python",
   "pygments_lexer": "ipython2",
   "version": "2.7.15"
  }
 },
 "nbformat": 4,
 "nbformat_minor": 2
}
